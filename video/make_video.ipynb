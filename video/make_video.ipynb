{
 "cells": [
  {
   "cell_type": "code",
   "execution_count": 1,
   "id": "370fbcff",
   "metadata": {},
   "outputs": [],
   "source": [
    "import pandas as pd\n",
    "import numpy as np\n",
    "import altair as alt\n",
    "from spacepy.coordinates import Coords\n",
    "from spacepy.time import Ticktock\n",
    "from datetime import datetime, timedelta\n",
    "from pytz import timezone\n",
    "import pytz\n",
    "import os\n",
    "alt.data_transformers.disable_max_rows()\n",
    "os.makedirs(\"outputs/\", exist_ok = True)\n",
    "os.makedirs(\"geo_images/\", exist_ok = True)"
   ]
  },
  {
   "cell_type": "code",
   "execution_count": 30,
   "id": "2bb6293f",
   "metadata": {},
   "outputs": [],
   "source": [
    "df = pd.read_csv(\"/cluster/home/rodrigm/Ionosphere_new/IonosphereModel/outputs/model_2025-05-23-13-49-44SA20241001.csv\")\n",
    "doy = 183\n",
    "year = 2024\n",
    "month = 7\n",
    "day =  1"
   ]
  },
  {
   "cell_type": "code",
   "execution_count": 31,
   "id": "b0f21c28",
   "metadata": {},
   "outputs": [],
   "source": [
    "# Undo sine / cosine transformation on second\n",
    "angle = (np.array(df[\"sod_sin\"]) >= 0)*np.arccos(np.array(df[\"sod_cos\"])) + (np.array(df[\"sod_sin\"]) < 0)*(2*np.pi-np.arccos(np.array(df[\"sod_cos\"])))\n",
    "sod =  (86400*angle) / (2 * np.pi)\n",
    "df[\"sod\"] = sod\n",
    "df = df[df[\"sod\"] < 24*60*60]"
   ]
  },
  {
   "cell_type": "markdown",
   "id": "bda9ecb2",
   "metadata": {},
   "source": [
    "# MAE"
   ]
  },
  {
   "cell_type": "code",
   "execution_count": 32,
   "id": "024f8aea",
   "metadata": {},
   "outputs": [
    {
     "name": "stdout",
     "output_type": "stream",
     "text": [
      "MAE 4.556109511571249\n"
     ]
    }
   ],
   "source": [
    "target = np.array(df[\"target\"])\n",
    "pred = np.array(df[\"prediction\"])\n",
    "print(\"MAE\",np.mean(np.abs(target-pred)))"
   ]
  },
  {
   "cell_type": "markdown",
   "id": "248c2e65",
   "metadata": {},
   "source": [
    "### Recover input"
   ]
  },
  {
   "cell_type": "code",
   "execution_count": 5,
   "id": "1b28d30c",
   "metadata": {},
   "outputs": [],
   "source": [
    "# Undo sine / cosine transformation on latitude\n",
    "angle = (np.array(df[\"sm_lon_ipp_sin\"]) >= 0)*np.arccos(np.array(df[\"sm_lon_ipp_cos\"])) + (np.array(df[\"sm_lon_ipp_sin\"]) < 0)*(2*np.pi-np.arccos(np.array(df[\"sm_lon_ipp_cos\"])))\n",
    "angle *= 360 / (2*np.pi)\n",
    "lons = angle"
   ]
  },
  {
   "cell_type": "code",
   "execution_count": 6,
   "id": "fb1e0bdc",
   "metadata": {},
   "outputs": [],
   "source": [
    "lats = df[\"sm_lat_ipp\"]"
   ]
  },
  {
   "cell_type": "markdown",
   "id": "a666def4",
   "metadata": {},
   "source": [
    "### Error by elevation angle"
   ]
  },
  {
   "cell_type": "code",
   "execution_count": 7,
   "id": "e4047cf8",
   "metadata": {},
   "outputs": [
    {
     "data": {
      "text/html": [
       "<div>\n",
       "<style scoped>\n",
       "    .dataframe tbody tr th:only-of-type {\n",
       "        vertical-align: middle;\n",
       "    }\n",
       "\n",
       "    .dataframe tbody tr th {\n",
       "        vertical-align: top;\n",
       "    }\n",
       "\n",
       "    .dataframe thead th {\n",
       "        text-align: right;\n",
       "    }\n",
       "</style>\n",
       "<table border=\"1\" class=\"dataframe\">\n",
       "  <thead>\n",
       "    <tr style=\"text-align: right;\">\n",
       "      <th></th>\n",
       "      <th>sm_lat_ipp</th>\n",
       "      <th>sm_lon_ipp_sin</th>\n",
       "      <th>sm_lon_ipp_cos</th>\n",
       "      <th>sod_sin</th>\n",
       "      <th>sod_cos</th>\n",
       "      <th>satazi_sin</th>\n",
       "      <th>satazi_cos</th>\n",
       "      <th>satele</th>\n",
       "      <th>doy</th>\n",
       "      <th>year</th>\n",
       "      <th>kp_index_daily</th>\n",
       "      <th>r_index_daily</th>\n",
       "      <th>dst_index_daily</th>\n",
       "      <th>f_index_daily</th>\n",
       "      <th>prediction</th>\n",
       "      <th>target</th>\n",
       "      <th>sod</th>\n",
       "    </tr>\n",
       "  </thead>\n",
       "  <tbody>\n",
       "    <tr>\n",
       "      <th>0</th>\n",
       "      <td>-21.316343</td>\n",
       "      <td>0.860202</td>\n",
       "      <td>-0.509954</td>\n",
       "      <td>0.0</td>\n",
       "      <td>1.0</td>\n",
       "      <td>0.974851</td>\n",
       "      <td>0.222859</td>\n",
       "      <td>15.287000</td>\n",
       "      <td>100.0</td>\n",
       "      <td>2024.0</td>\n",
       "      <td>20.0</td>\n",
       "      <td>56.0</td>\n",
       "      <td>-7.0</td>\n",
       "      <td>124.800003</td>\n",
       "      <td>33.170132</td>\n",
       "      <td>21.573999</td>\n",
       "      <td>0.0</td>\n",
       "    </tr>\n",
       "    <tr>\n",
       "      <th>1</th>\n",
       "      <td>-24.254080</td>\n",
       "      <td>0.959104</td>\n",
       "      <td>-0.283055</td>\n",
       "      <td>0.0</td>\n",
       "      <td>1.0</td>\n",
       "      <td>-0.993298</td>\n",
       "      <td>-0.115578</td>\n",
       "      <td>50.733002</td>\n",
       "      <td>100.0</td>\n",
       "      <td>2024.0</td>\n",
       "      <td>20.0</td>\n",
       "      <td>56.0</td>\n",
       "      <td>-7.0</td>\n",
       "      <td>124.800003</td>\n",
       "      <td>19.306767</td>\n",
       "      <td>16.679001</td>\n",
       "      <td>0.0</td>\n",
       "    </tr>\n",
       "  </tbody>\n",
       "</table>\n",
       "</div>"
      ],
      "text/plain": [
       "   sm_lat_ipp  sm_lon_ipp_sin  sm_lon_ipp_cos  sod_sin  sod_cos  satazi_sin  \\\n",
       "0  -21.316343        0.860202       -0.509954      0.0      1.0    0.974851   \n",
       "1  -24.254080        0.959104       -0.283055      0.0      1.0   -0.993298   \n",
       "\n",
       "   satazi_cos     satele    doy    year  kp_index_daily  r_index_daily  \\\n",
       "0    0.222859  15.287000  100.0  2024.0            20.0           56.0   \n",
       "1   -0.115578  50.733002  100.0  2024.0            20.0           56.0   \n",
       "\n",
       "   dst_index_daily  f_index_daily  prediction     target  sod  \n",
       "0             -7.0     124.800003   33.170132  21.573999  0.0  \n",
       "1             -7.0     124.800003   19.306767  16.679001  0.0  "
      ]
     },
     "execution_count": 7,
     "metadata": {},
     "output_type": "execute_result"
    }
   ],
   "source": [
    "df.head(2)"
   ]
  },
  {
   "cell_type": "code",
   "execution_count": 8,
   "id": "e39b5a63",
   "metadata": {},
   "outputs": [],
   "source": [
    "ele_th_list = np.arange(5,90,5)\n",
    "ele_list = np.array(df[\"satele\"])\n",
    "ele_error_list = []\n",
    "ele_sample_size = []\n",
    "for ele_start in np.unique(ele_th_list):\n",
    "    ele_mask = np.logical_and(ele_list >= ele_start, ele_list < ele_start+0.1)\n",
    "    ele_error_list.append(np.mean(np.abs(pred[ele_mask]-target[ele_mask])))\n",
    "    ele_sample_size.append(np.sum(ele_mask))"
   ]
  },
  {
   "cell_type": "code",
   "execution_count": 9,
   "metadata": {},
   "outputs": [
    {
     "data": {
      "text/html": [
       "\n",
       "<style>\n",
       "  #altair-viz-322add700caf424b8498af543adbe419.vega-embed {\n",
       "    width: 100%;\n",
       "    display: flex;\n",
       "  }\n",
       "\n",
       "  #altair-viz-322add700caf424b8498af543adbe419.vega-embed details,\n",
       "  #altair-viz-322add700caf424b8498af543adbe419.vega-embed details summary {\n",
       "    position: relative;\n",
       "  }\n",
       "</style>\n",
       "<div id=\"altair-viz-322add700caf424b8498af543adbe419\"></div>\n",
       "<script type=\"text/javascript\">\n",
       "  var VEGA_DEBUG = (typeof VEGA_DEBUG == \"undefined\") ? {} : VEGA_DEBUG;\n",
       "  (function(spec, embedOpt){\n",
       "    let outputDiv = document.currentScript.previousElementSibling;\n",
       "    if (outputDiv.id !== \"altair-viz-322add700caf424b8498af543adbe419\") {\n",
       "      outputDiv = document.getElementById(\"altair-viz-322add700caf424b8498af543adbe419\");\n",
       "    }\n",
       "\n",
       "    const paths = {\n",
       "      \"vega\": \"https://cdn.jsdelivr.net/npm/vega@5?noext\",\n",
       "      \"vega-lib\": \"https://cdn.jsdelivr.net/npm/vega-lib?noext\",\n",
       "      \"vega-lite\": \"https://cdn.jsdelivr.net/npm/vega-lite@5.20.1?noext\",\n",
       "      \"vega-embed\": \"https://cdn.jsdelivr.net/npm/vega-embed@6?noext\",\n",
       "    };\n",
       "\n",
       "    function maybeLoadScript(lib, version) {\n",
       "      var key = `${lib.replace(\"-\", \"\")}_version`;\n",
       "      return (VEGA_DEBUG[key] == version) ?\n",
       "        Promise.resolve(paths[lib]) :\n",
       "        new Promise(function(resolve, reject) {\n",
       "          var s = document.createElement('script');\n",
       "          document.getElementsByTagName(\"head\")[0].appendChild(s);\n",
       "          s.async = true;\n",
       "          s.onload = () => {\n",
       "            VEGA_DEBUG[key] = version;\n",
       "            return resolve(paths[lib]);\n",
       "          };\n",
       "          s.onerror = () => reject(`Error loading script: ${paths[lib]}`);\n",
       "          s.src = paths[lib];\n",
       "        });\n",
       "    }\n",
       "\n",
       "    function showError(err) {\n",
       "      outputDiv.innerHTML = `<div class=\"error\" style=\"color:red;\">${err}</div>`;\n",
       "      throw err;\n",
       "    }\n",
       "\n",
       "    function displayChart(vegaEmbed) {\n",
       "      vegaEmbed(outputDiv, spec, embedOpt)\n",
       "        .catch(err => showError(`Javascript Error: ${err.message}<br>This usually means there's a typo in your chart specification. See the javascript console for the full traceback.`));\n",
       "    }\n",
       "\n",
       "    if(typeof define === \"function\" && define.amd) {\n",
       "      requirejs.config({paths});\n",
       "      let deps = [\"vega-embed\"];\n",
       "      require(deps, displayChart, err => showError(`Error loading script: ${err.message}`));\n",
       "    } else {\n",
       "      maybeLoadScript(\"vega\", \"5\")\n",
       "        .then(() => maybeLoadScript(\"vega-lite\", \"5.20.1\"))\n",
       "        .then(() => maybeLoadScript(\"vega-embed\", \"6\"))\n",
       "        .catch(showError)\n",
       "        .then(() => displayChart(vegaEmbed));\n",
       "    }\n",
       "  })({\"config\": {\"view\": {\"continuousWidth\": 300, \"continuousHeight\": 300}}, \"data\": {\"name\": \"data-8c778ab5ace647c6d338bcf8fd655948\"}, \"mark\": {\"type\": \"circle\"}, \"encoding\": {\"x\": {\"field\": \"elevation angle\", \"type\": \"quantitative\"}, \"y\": {\"field\": \"MAE\", \"type\": \"quantitative\"}}, \"$schema\": \"https://vega.github.io/schema/vega-lite/v5.20.1.json\", \"datasets\": {\"data-8c778ab5ace647c6d338bcf8fd655948\": [{\"elevation angle\": 7.5, \"MAE\": 6.137673731900994}, {\"elevation angle\": 12.5, \"MAE\": 5.198929426159141}, {\"elevation angle\": 17.5, \"MAE\": 4.1679554477136}, {\"elevation angle\": 22.5, \"MAE\": 3.640997451189064}, {\"elevation angle\": 27.5, \"MAE\": 3.58581121391858}, {\"elevation angle\": 32.5, \"MAE\": 3.256964202905063}, {\"elevation angle\": 37.5, \"MAE\": 3.0204245307985182}, {\"elevation angle\": 42.5, \"MAE\": 2.774661884687988}, {\"elevation angle\": 47.5, \"MAE\": 2.6494540622740823}, {\"elevation angle\": 52.5, \"MAE\": 2.5463215310755016}, {\"elevation angle\": 57.5, \"MAE\": 2.3604405366372063}, {\"elevation angle\": 62.5, \"MAE\": 2.190567381334342}, {\"elevation angle\": 67.5, \"MAE\": 2.060790388034677}, {\"elevation angle\": 72.5, \"MAE\": 2.0587307936541364}, {\"elevation angle\": 77.5, \"MAE\": 1.8647360660331143}, {\"elevation angle\": 82.5, \"MAE\": 1.7663159886388555}, {\"elevation angle\": 87.5, \"MAE\": 1.687184637773733}]}}, {\"mode\": \"vega-lite\"});\n",
       "</script>"
      ],
      "text/plain": [
       "alt.Chart(...)"
      ]
     },
     "execution_count": 9,
     "metadata": {},
     "output_type": "execute_result"
    }
   ],
   "source": [
    "avg_th = np.arange(7.5,90,5)\n",
    "plot_df = pd.DataFrame()\n",
    "plot_df[\"elevation angle\"] = avg_th\n",
    "plot_df[\"MAE\"] = ele_error_list\n",
    "alt.Chart(plot_df).mark_circle().encode(\n",
    "    x=\"elevation angle\",\n",
    "    y=\"MAE\"\n",
    ")"
   ]
  },
  {
   "cell_type": "code",
   "execution_count": 10,
   "id": "8f3d5c65",
   "metadata": {},
   "outputs": [
    {
     "data": {
      "text/html": [
       "\n",
       "<style>\n",
       "  #altair-viz-595fb40eaf4e4b43a79fee89afffe696.vega-embed {\n",
       "    width: 100%;\n",
       "    display: flex;\n",
       "  }\n",
       "\n",
       "  #altair-viz-595fb40eaf4e4b43a79fee89afffe696.vega-embed details,\n",
       "  #altair-viz-595fb40eaf4e4b43a79fee89afffe696.vega-embed details summary {\n",
       "    position: relative;\n",
       "  }\n",
       "</style>\n",
       "<div id=\"altair-viz-595fb40eaf4e4b43a79fee89afffe696\"></div>\n",
       "<script type=\"text/javascript\">\n",
       "  var VEGA_DEBUG = (typeof VEGA_DEBUG == \"undefined\") ? {} : VEGA_DEBUG;\n",
       "  (function(spec, embedOpt){\n",
       "    let outputDiv = document.currentScript.previousElementSibling;\n",
       "    if (outputDiv.id !== \"altair-viz-595fb40eaf4e4b43a79fee89afffe696\") {\n",
       "      outputDiv = document.getElementById(\"altair-viz-595fb40eaf4e4b43a79fee89afffe696\");\n",
       "    }\n",
       "\n",
       "    const paths = {\n",
       "      \"vega\": \"https://cdn.jsdelivr.net/npm/vega@5?noext\",\n",
       "      \"vega-lib\": \"https://cdn.jsdelivr.net/npm/vega-lib?noext\",\n",
       "      \"vega-lite\": \"https://cdn.jsdelivr.net/npm/vega-lite@5.20.1?noext\",\n",
       "      \"vega-embed\": \"https://cdn.jsdelivr.net/npm/vega-embed@6?noext\",\n",
       "    };\n",
       "\n",
       "    function maybeLoadScript(lib, version) {\n",
       "      var key = `${lib.replace(\"-\", \"\")}_version`;\n",
       "      return (VEGA_DEBUG[key] == version) ?\n",
       "        Promise.resolve(paths[lib]) :\n",
       "        new Promise(function(resolve, reject) {\n",
       "          var s = document.createElement('script');\n",
       "          document.getElementsByTagName(\"head\")[0].appendChild(s);\n",
       "          s.async = true;\n",
       "          s.onload = () => {\n",
       "            VEGA_DEBUG[key] = version;\n",
       "            return resolve(paths[lib]);\n",
       "          };\n",
       "          s.onerror = () => reject(`Error loading script: ${paths[lib]}`);\n",
       "          s.src = paths[lib];\n",
       "        });\n",
       "    }\n",
       "\n",
       "    function showError(err) {\n",
       "      outputDiv.innerHTML = `<div class=\"error\" style=\"color:red;\">${err}</div>`;\n",
       "      throw err;\n",
       "    }\n",
       "\n",
       "    function displayChart(vegaEmbed) {\n",
       "      vegaEmbed(outputDiv, spec, embedOpt)\n",
       "        .catch(err => showError(`Javascript Error: ${err.message}<br>This usually means there's a typo in your chart specification. See the javascript console for the full traceback.`));\n",
       "    }\n",
       "\n",
       "    if(typeof define === \"function\" && define.amd) {\n",
       "      requirejs.config({paths});\n",
       "      let deps = [\"vega-embed\"];\n",
       "      require(deps, displayChart, err => showError(`Error loading script: ${err.message}`));\n",
       "    } else {\n",
       "      maybeLoadScript(\"vega\", \"5\")\n",
       "        .then(() => maybeLoadScript(\"vega-lite\", \"5.20.1\"))\n",
       "        .then(() => maybeLoadScript(\"vega-embed\", \"6\"))\n",
       "        .catch(showError)\n",
       "        .then(() => displayChart(vegaEmbed));\n",
       "    }\n",
       "  })({\"config\": {\"view\": {\"continuousWidth\": 300, \"continuousHeight\": 300}}, \"data\": {\"name\": \"data-8c778ab5ace647c6d338bcf8fd655948\"}, \"mark\": {\"type\": \"bar\"}, \"encoding\": {\"x\": {\"field\": \"elevation angle\", \"type\": \"quantitative\"}, \"y\": {\"field\": \"MAE\", \"type\": \"quantitative\"}}, \"$schema\": \"https://vega.github.io/schema/vega-lite/v5.20.1.json\", \"datasets\": {\"data-8c778ab5ace647c6d338bcf8fd655948\": [{\"elevation angle\": 7.5, \"MAE\": 6.137673731900994}, {\"elevation angle\": 12.5, \"MAE\": 5.198929426159141}, {\"elevation angle\": 17.5, \"MAE\": 4.1679554477136}, {\"elevation angle\": 22.5, \"MAE\": 3.640997451189064}, {\"elevation angle\": 27.5, \"MAE\": 3.58581121391858}, {\"elevation angle\": 32.5, \"MAE\": 3.256964202905063}, {\"elevation angle\": 37.5, \"MAE\": 3.0204245307985182}, {\"elevation angle\": 42.5, \"MAE\": 2.774661884687988}, {\"elevation angle\": 47.5, \"MAE\": 2.6494540622740823}, {\"elevation angle\": 52.5, \"MAE\": 2.5463215310755016}, {\"elevation angle\": 57.5, \"MAE\": 2.3604405366372063}, {\"elevation angle\": 62.5, \"MAE\": 2.190567381334342}, {\"elevation angle\": 67.5, \"MAE\": 2.060790388034677}, {\"elevation angle\": 72.5, \"MAE\": 2.0587307936541364}, {\"elevation angle\": 77.5, \"MAE\": 1.8647360660331143}, {\"elevation angle\": 82.5, \"MAE\": 1.7663159886388555}, {\"elevation angle\": 87.5, \"MAE\": 1.687184637773733}]}}, {\"mode\": \"vega-lite\"});\n",
       "</script>"
      ],
      "text/plain": [
       "alt.Chart(...)"
      ]
     },
     "execution_count": 10,
     "metadata": {},
     "output_type": "execute_result"
    }
   ],
   "source": [
    "plot_df[\"MAE\"] = ele_error_list\n",
    "alt.Chart(plot_df).mark_bar().encode(\n",
    "    x=\"elevation angle\",\n",
    "    y=\"MAE\"\n",
    ")"
   ]
  },
  {
   "cell_type": "markdown",
   "id": "2c28986a",
   "metadata": {},
   "source": [
    "### Convert back to GEO coordinates"
   ]
  },
  {
   "cell_type": "code",
   "execution_count": 11,
   "id": "2c28986a",
   "metadata": {},
   "outputs": [],
   "source": [
    "# Converse solar magnetic coordinates to geo coordinates\n",
    "def coord_transform(input_type, output_type, lats, lons, epochs):\n",
    "    coords = np.array([[1 + 450 / 6371, lat, lon] for lat, lon in zip(lats, lons)], dtype=np.float64)\n",
    "    geo_coords = Coords(coords, input_type, 'sph')\n",
    "    geo_coords.ticks = Ticktock(epochs, 'UTC')\n",
    "    return geo_coords.convert(output_type, 'sph')\n",
    "\n",
    "date = datetime.strptime(\"2024-01-01\", \"%Y-%m-%d\") + timedelta(days=doy - 1)\n",
    "epochs = [date + timedelta(seconds=int(sod)) for sod in df[\"sod\"]]\n",
    "sm_coords = coord_transform('SM', 'GEO', lats, lons, epochs)\n",
    "out_coords = sm_coords.data"
   ]
  },
  {
   "cell_type": "markdown",
   "id": "5fd61533",
   "metadata": {},
   "source": [
    "### Get timezone / local hour / region"
   ]
  },
  {
   "cell_type": "code",
   "execution_count": 12,
   "id": "9b627733",
   "metadata": {},
   "outputs": [],
   "source": [
    "# Find area of prediction\n",
    "from timezonefinder import TimezoneFinder\n",
    "tf = TimezoneFinder()  # reuse\n",
    "tz_list = []\n",
    "query_points = zip(out_coords[:,1],out_coords[:,2])\n",
    "for lat, lng in query_points:\n",
    "    tz = tf.timezone_at(lng=lng, lat=lat)  # 'Europe/Berlin'\n",
    "    tz_list.append(tz)\n",
    "tz_list = np.array(tz_list)\n",
    "df[\"timezone_name\"] = tz_list"
   ]
  },
  {
   "cell_type": "code",
   "execution_count": 13,
   "id": "1024122a",
   "metadata": {},
   "outputs": [],
   "source": [
    "# Calculate local time\n",
    "local_hour_list = []\n",
    "for _ , row in df.iterrows():\n",
    "    s = row[\"sod\"]\n",
    "    h = int(s/3600)\n",
    "    global_time = datetime(year,month,day,h,0,0,tzinfo=pytz.utc)\n",
    "\n",
    "    local_zone = row[\"timezone_name\"]\n",
    "    if local_zone == 'America/Coyhaique':\n",
    "        local_zone = \"America/Santiago\"\n",
    "\n",
    "    local_hour = global_time.astimezone(timezone(local_zone)).hour\n",
    "    local_hour_list.append(local_hour)\n",
    "    \n",
    "df[\"local_hour\"] = local_hour_list"
   ]
  },
  {
   "cell_type": "code",
   "execution_count": 14,
   "id": "e4a78082",
   "metadata": {},
   "outputs": [
    {
     "data": {
      "text/plain": [
       "(np.float64(0.0), np.float64(86369.97251173368))"
      ]
     },
     "execution_count": 14,
     "metadata": {},
     "output_type": "execute_result"
    }
   ],
   "source": [
    "np.min(df[\"sod\"]), np.max(df[\"sod\"])"
   ]
  },
  {
   "cell_type": "code",
   "execution_count": 15,
   "id": "e4a78082",
   "metadata": {},
   "outputs": [],
   "source": [
    "region_list = np.array([s.split('/')[0] for s in tz_list])\n",
    "df[\"region\"] = region_list"
   ]
  },
  {
   "cell_type": "markdown",
   "id": "fbb1827c",
   "metadata": {},
   "source": [
    "### Error by region"
   ]
  },
  {
   "cell_type": "code",
   "execution_count": 16,
   "id": "4fe62028",
   "metadata": {},
   "outputs": [],
   "source": [
    "region_error_list = []\n",
    "region_sample_size = []\n",
    "for current_region in np.unique(region_list):\n",
    "    region_mask = current_region == region_list\n",
    "    region_error_list.append(np.mean(np.abs(pred[region_mask]-target[region_mask])))\n",
    "    region_sample_size.append(np.sum(region_mask))\n",
    "    "
   ]
  },
  {
   "cell_type": "code",
   "execution_count": 28,
   "id": "4fe62028",
   "metadata": {},
   "outputs": [],
   "source": [
    "plot_df = pd.DataFrame()\n",
    "plot_df[\"region\"] = np.unique(region_list)\n",
    "plot_df[\"MAE\"] = region_error_list\n",
    "alt.Chart(plot_df).mark_bar().encode(\n",
    "    x=\"region:N\",\n",
    "    y=\"MAE\"\n",
    ").configure_axis(labelFontSize=40,titleFontSize=50,labelAngle=0).properties(width=3000,height=3000).save(\"region_error_HD.png\")"
   ]
  },
  {
   "cell_type": "markdown",
   "id": "1d6a557f",
   "metadata": {},
   "source": [
    "### Error by local time"
   ]
  },
  {
   "cell_type": "code",
   "execution_count": 18,
   "id": "6cd890fc",
   "metadata": {},
   "outputs": [],
   "source": [
    "local_time_error_list = []\n",
    "local_time_sample_size = []\n",
    "for lt in np.unique(local_hour_list):\n",
    "    local_time_mask = local_hour_list == lt\n",
    "    local_time_error_list.append(np.mean(np.abs(pred[local_time_mask]-target[local_time_mask])))\n",
    "    local_time_sample_size.append(np.sum(local_time_mask))"
   ]
  },
  {
   "cell_type": "code",
   "execution_count": 19,
   "id": "6cd890fc",
   "metadata": {},
   "outputs": [
    {
     "data": {
      "text/html": [
       "\n",
       "<style>\n",
       "  #altair-viz-b7763bd2e1f247e2afe9346aecfcbae3.vega-embed {\n",
       "    width: 100%;\n",
       "    display: flex;\n",
       "  }\n",
       "\n",
       "  #altair-viz-b7763bd2e1f247e2afe9346aecfcbae3.vega-embed details,\n",
       "  #altair-viz-b7763bd2e1f247e2afe9346aecfcbae3.vega-embed details summary {\n",
       "    position: relative;\n",
       "  }\n",
       "</style>\n",
       "<div id=\"altair-viz-b7763bd2e1f247e2afe9346aecfcbae3\"></div>\n",
       "<script type=\"text/javascript\">\n",
       "  var VEGA_DEBUG = (typeof VEGA_DEBUG == \"undefined\") ? {} : VEGA_DEBUG;\n",
       "  (function(spec, embedOpt){\n",
       "    let outputDiv = document.currentScript.previousElementSibling;\n",
       "    if (outputDiv.id !== \"altair-viz-b7763bd2e1f247e2afe9346aecfcbae3\") {\n",
       "      outputDiv = document.getElementById(\"altair-viz-b7763bd2e1f247e2afe9346aecfcbae3\");\n",
       "    }\n",
       "\n",
       "    const paths = {\n",
       "      \"vega\": \"https://cdn.jsdelivr.net/npm/vega@5?noext\",\n",
       "      \"vega-lib\": \"https://cdn.jsdelivr.net/npm/vega-lib?noext\",\n",
       "      \"vega-lite\": \"https://cdn.jsdelivr.net/npm/vega-lite@5.20.1?noext\",\n",
       "      \"vega-embed\": \"https://cdn.jsdelivr.net/npm/vega-embed@6?noext\",\n",
       "    };\n",
       "\n",
       "    function maybeLoadScript(lib, version) {\n",
       "      var key = `${lib.replace(\"-\", \"\")}_version`;\n",
       "      return (VEGA_DEBUG[key] == version) ?\n",
       "        Promise.resolve(paths[lib]) :\n",
       "        new Promise(function(resolve, reject) {\n",
       "          var s = document.createElement('script');\n",
       "          document.getElementsByTagName(\"head\")[0].appendChild(s);\n",
       "          s.async = true;\n",
       "          s.onload = () => {\n",
       "            VEGA_DEBUG[key] = version;\n",
       "            return resolve(paths[lib]);\n",
       "          };\n",
       "          s.onerror = () => reject(`Error loading script: ${paths[lib]}`);\n",
       "          s.src = paths[lib];\n",
       "        });\n",
       "    }\n",
       "\n",
       "    function showError(err) {\n",
       "      outputDiv.innerHTML = `<div class=\"error\" style=\"color:red;\">${err}</div>`;\n",
       "      throw err;\n",
       "    }\n",
       "\n",
       "    function displayChart(vegaEmbed) {\n",
       "      vegaEmbed(outputDiv, spec, embedOpt)\n",
       "        .catch(err => showError(`Javascript Error: ${err.message}<br>This usually means there's a typo in your chart specification. See the javascript console for the full traceback.`));\n",
       "    }\n",
       "\n",
       "    if(typeof define === \"function\" && define.amd) {\n",
       "      requirejs.config({paths});\n",
       "      let deps = [\"vega-embed\"];\n",
       "      require(deps, displayChart, err => showError(`Error loading script: ${err.message}`));\n",
       "    } else {\n",
       "      maybeLoadScript(\"vega\", \"5\")\n",
       "        .then(() => maybeLoadScript(\"vega-lite\", \"5.20.1\"))\n",
       "        .then(() => maybeLoadScript(\"vega-embed\", \"6\"))\n",
       "        .catch(showError)\n",
       "        .then(() => displayChart(vegaEmbed));\n",
       "    }\n",
       "  })({\"config\": {\"view\": {\"continuousWidth\": 300, \"continuousHeight\": 300}}, \"data\": {\"name\": \"data-de4dd2f8b74277aa12e0da335c15e2d2\"}, \"mark\": {\"type\": \"bar\"}, \"encoding\": {\"x\": {\"field\": \"local time\", \"type\": \"quantitative\"}, \"y\": {\"field\": \"MAE\", \"type\": \"quantitative\"}}, \"height\": 500, \"width\": 500, \"$schema\": \"https://vega.github.io/schema/vega-lite/v5.20.1.json\", \"datasets\": {\"data-de4dd2f8b74277aa12e0da335c15e2d2\": [{\"local time\": 0, \"MAE\": 3.137201900500897}, {\"local time\": 1, \"MAE\": 2.7137555554045503}, {\"local time\": 2, \"MAE\": 2.6273221169533736}, {\"local time\": 3, \"MAE\": 2.6761649517304327}, {\"local time\": 4, \"MAE\": 2.4229344496679746}, {\"local time\": 5, \"MAE\": 2.269197117774306}, {\"local time\": 6, \"MAE\": 2.425209137200711}, {\"local time\": 7, \"MAE\": 2.767890966511864}, {\"local time\": 8, \"MAE\": 2.637435880785756}, {\"local time\": 9, \"MAE\": 2.685790669624247}, {\"local time\": 10, \"MAE\": 2.828039513551696}, {\"local time\": 11, \"MAE\": 3.2343761322804805}, {\"local time\": 12, \"MAE\": 3.6993422204367037}, {\"local time\": 13, \"MAE\": 3.7745762500804214}, {\"local time\": 14, \"MAE\": 3.955872392060372}, {\"local time\": 15, \"MAE\": 4.075289073152585}, {\"local time\": 16, \"MAE\": 4.049882457101523}, {\"local time\": 17, \"MAE\": 4.088126867860848}, {\"local time\": 18, \"MAE\": 3.7679829849465802}, {\"local time\": 19, \"MAE\": 4.264495768755496}, {\"local time\": 20, \"MAE\": 4.311022885706501}, {\"local time\": 21, \"MAE\": 4.235095404456407}, {\"local time\": 22, \"MAE\": 3.7610868371812796}, {\"local time\": 23, \"MAE\": 3.586672736727355}]}}, {\"mode\": \"vega-lite\"});\n",
       "</script>"
      ],
      "text/plain": [
       "alt.Chart(...)"
      ]
     },
     "execution_count": 19,
     "metadata": {},
     "output_type": "execute_result"
    }
   ],
   "source": [
    "plot_df = pd.DataFrame()\n",
    "plot_df[\"local time\"] = np.unique(local_hour_list)\n",
    "plot_df[\"MAE\"] = local_time_error_list\n",
    "alt.Chart(plot_df).mark_bar().encode(\n",
    "    x=\"local time\",\n",
    "    y=\"MAE\"\n",
    ").properties(width=500,height=500)"
   ]
  }
 ],
 "metadata": {
  "kernelspec": {
   "display_name": ".venv",
   "language": "python",
   "name": "python3"
  },
  "language_info": {
   "codemirror_mode": {
    "name": "ipython",
    "version": 3
   },
   "file_extension": ".py",
   "mimetype": "text/x-python",
   "name": "python",
   "nbconvert_exporter": "python",
   "pygments_lexer": "ipython3",
   "version": "3.11.6"
  }
 },
 "nbformat": 4,
 "nbformat_minor": 5
}
