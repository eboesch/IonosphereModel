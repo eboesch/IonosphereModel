{
 "cells": [
  {
   "cell_type": "code",
   "execution_count": 15,
   "id": "370fbcff",
   "metadata": {},
   "outputs": [
    {
     "data": {
      "text/plain": [
       "DataTransformerRegistry.enable('default')"
      ]
     },
     "execution_count": 15,
     "metadata": {},
     "output_type": "execute_result"
    }
   ],
   "source": [
    "import pandas as pd\n",
    "import numpy as np\n",
    "import altair as alt\n",
    "from spacepy.coordinates import Coords\n",
    "from spacepy.time import Ticktock\n",
    "from datetime import datetime, timedelta\n",
    "from pytz import timezone\n",
    "import pytz\n",
    "import os\n",
    "alt.data_transformers.disable_max_rows()"
   ]
  },
  {
   "cell_type": "code",
   "execution_count": 16,
   "id": "2bb6293f",
   "metadata": {},
   "outputs": [],
   "source": [
    "df = pd.read_csv(\"/cluster/work/igp_psr/dslab_FS25_data_and_weights/model_2025-05-10-18-26-55SA2024501.csv\")\n",
    "doy = 183\n",
    "year = 2024\n",
    "month = 7\n",
    "day =  1"
   ]
  },
  {
   "cell_type": "markdown",
   "id": "bda9ecb2",
   "metadata": {},
   "source": [
    "# MAE"
   ]
  },
  {
   "cell_type": "code",
   "execution_count": 17,
   "id": "024f8aea",
   "metadata": {},
   "outputs": [
    {
     "name": "stdout",
     "output_type": "stream",
     "text": [
      "MAE 5.81757419706036\n"
     ]
    }
   ],
   "source": [
    "target = np.array(df[\"target\"])\n",
    "pred = np.array(df[\"prediction\"])\n",
    "print(\"MAE\",np.mean(np.abs(target-pred)))"
   ]
  },
  {
   "cell_type": "markdown",
   "id": "248c2e65",
   "metadata": {},
   "source": [
    "### Recover input"
   ]
  },
  {
   "cell_type": "code",
   "execution_count": 18,
   "id": "c96b5615",
   "metadata": {},
   "outputs": [],
   "source": [
    "# Undo sine / cosine transformation on second\n",
    "angle = (np.array(df[\"sod_sin\"]) >= 0)*np.arccos(np.array(df[\"sod_cos\"])) + (np.array(df[\"sod_sin\"]) < 0)*(2*np.pi-np.arccos(np.array(df[\"sod_cos\"])))\n",
    "sod =  (86400*angle) / (2 * np.pi)\n",
    "df[\"sod\"] = sod"
   ]
  },
  {
   "cell_type": "code",
   "execution_count": 19,
   "id": "1b28d30c",
   "metadata": {},
   "outputs": [],
   "source": [
    "# Undo sine / cosine transformation on latitude\n",
    "angle = (np.array(df[\"sm_lon_ipp_sin\"]) >= 0)*np.arccos(np.array(df[\"sm_lon_ipp_cos\"])) + (np.array(df[\"sm_lon_ipp_sin\"]) < 0)*(2*np.pi-np.arccos(np.array(df[\"sm_lon_ipp_cos\"])))\n",
    "angle *= 360 / (2*np.pi)\n",
    "lons = angle"
   ]
  },
  {
   "cell_type": "code",
   "execution_count": 20,
   "id": "fb1e0bdc",
   "metadata": {},
   "outputs": [],
   "source": [
    "lats = df[\"sm_lat_ipp\"]"
   ]
  },
  {
   "cell_type": "markdown",
   "id": "c43bfc85",
   "metadata": {},
   "source": [
    "### Convert back to GEO coordinates"
   ]
  },
  {
   "cell_type": "code",
   "execution_count": 21,
   "id": "2c28986a",
   "metadata": {},
   "outputs": [],
   "source": [
    "# Converse solar magnetic coordinates to geo coordinates\n",
    "def coord_transform(input_type, output_type, lats, lons, epochs):\n",
    "    coords = np.array([[1 + 450 / 6371, lat, lon] for lat, lon in zip(lats, lons)], dtype=np.float64)\n",
    "    geo_coords = Coords(coords, input_type, 'sph')\n",
    "    geo_coords.ticks = Ticktock(epochs, 'UTC')\n",
    "    return geo_coords.convert(output_type, 'sph')\n",
    "\n",
    "date = datetime.strptime(\"2024-01-01\", \"%Y-%m-%d\") + timedelta(days=doy - 1)\n",
    "epochs = [date + timedelta(seconds=int(sod)) for sod in df[\"sod\"]]\n",
    "sm_coords = coord_transform('SM', 'GEO', lats, lons, epochs)\n",
    "out_coords = sm_coords.data"
   ]
  },
  {
   "cell_type": "markdown",
   "id": "b2eb87f7",
   "metadata": {},
   "source": [
    "### Get timezone / local hour / region"
   ]
  },
  {
   "cell_type": "code",
   "execution_count": 22,
   "id": "5fd61533",
   "metadata": {},
   "outputs": [],
   "source": [
    "# Find area of prediction\n",
    "from timezonefinder import TimezoneFinder\n",
    "tf = TimezoneFinder()  # reuse\n",
    "tz_list = []\n",
    "query_points = zip(out_coords[:,1],out_coords[:,2])\n",
    "for lat, lng in query_points:\n",
    "    tz = tf.timezone_at(lng=lng, lat=lat)  # 'Europe/Berlin'\n",
    "    tz_list.append(tz)\n",
    "tz_list = np.array(tz_list)\n",
    "df[\"timezone_name\"] = tz_list"
   ]
  },
  {
   "cell_type": "code",
   "execution_count": 23,
   "id": "9b627733",
   "metadata": {},
   "outputs": [],
   "source": [
    "# Calculate local time\n",
    "local_hour_list = []\n",
    "for _ , row in df.iterrows():\n",
    "    s = row[\"sod\"]\n",
    "    h = int(s/3600)\n",
    "    global_time = datetime(year,month,day,h,0,0,tzinfo=pytz.utc)\n",
    "\n",
    "    local_zone = row[\"timezone_name\"]\n",
    "    if local_zone == 'America/Coyhaique':\n",
    "        local_zone = \"America/Santiago\"\n",
    "\n",
    "    local_hour = global_time.astimezone(timezone(local_zone)).hour\n",
    "    local_hour_list.append(local_hour)\n",
    "    \n",
    "df[\"local_hour\"] = local_hour_list"
   ]
  },
  {
   "cell_type": "code",
   "execution_count": 24,
   "id": "e4a78082",
   "metadata": {},
   "outputs": [],
   "source": [
    "region_list = np.array([s.split('/')[0] for s in tz_list])\n",
    "df[\"region\"] = region_list"
   ]
  },
  {
   "cell_type": "markdown",
   "id": "109be38b",
   "metadata": {},
   "source": [
    "### Error by region"
   ]
  },
  {
   "cell_type": "code",
   "execution_count": 25,
   "id": "fbb1827c",
   "metadata": {},
   "outputs": [],
   "source": [
    "region_error_list = []\n",
    "region_sample_size = []\n",
    "for current_region in np.unique(region_list):\n",
    "    region_mask = current_region == region_list\n",
    "    region_error_list.append(np.mean(np.abs(pred[region_mask]-target[region_mask])))\n",
    "    region_sample_size.append(np.sum(region_mask))\n",
    "    "
   ]
  },
  {
   "cell_type": "code",
   "execution_count": 26,
   "id": "4fe62028",
   "metadata": {},
   "outputs": [
    {
     "data": {
      "text/html": [
       "\n",
       "<style>\n",
       "  #altair-viz-2a33a670e51745a7ace0de1cc2372577.vega-embed {\n",
       "    width: 100%;\n",
       "    display: flex;\n",
       "  }\n",
       "\n",
       "  #altair-viz-2a33a670e51745a7ace0de1cc2372577.vega-embed details,\n",
       "  #altair-viz-2a33a670e51745a7ace0de1cc2372577.vega-embed details summary {\n",
       "    position: relative;\n",
       "  }\n",
       "</style>\n",
       "<div id=\"altair-viz-2a33a670e51745a7ace0de1cc2372577\"></div>\n",
       "<script type=\"text/javascript\">\n",
       "  var VEGA_DEBUG = (typeof VEGA_DEBUG == \"undefined\") ? {} : VEGA_DEBUG;\n",
       "  (function(spec, embedOpt){\n",
       "    let outputDiv = document.currentScript.previousElementSibling;\n",
       "    if (outputDiv.id !== \"altair-viz-2a33a670e51745a7ace0de1cc2372577\") {\n",
       "      outputDiv = document.getElementById(\"altair-viz-2a33a670e51745a7ace0de1cc2372577\");\n",
       "    }\n",
       "\n",
       "    const paths = {\n",
       "      \"vega\": \"https://cdn.jsdelivr.net/npm/vega@5?noext\",\n",
       "      \"vega-lib\": \"https://cdn.jsdelivr.net/npm/vega-lib?noext\",\n",
       "      \"vega-lite\": \"https://cdn.jsdelivr.net/npm/vega-lite@5.20.1?noext\",\n",
       "      \"vega-embed\": \"https://cdn.jsdelivr.net/npm/vega-embed@6?noext\",\n",
       "    };\n",
       "\n",
       "    function maybeLoadScript(lib, version) {\n",
       "      var key = `${lib.replace(\"-\", \"\")}_version`;\n",
       "      return (VEGA_DEBUG[key] == version) ?\n",
       "        Promise.resolve(paths[lib]) :\n",
       "        new Promise(function(resolve, reject) {\n",
       "          var s = document.createElement('script');\n",
       "          document.getElementsByTagName(\"head\")[0].appendChild(s);\n",
       "          s.async = true;\n",
       "          s.onload = () => {\n",
       "            VEGA_DEBUG[key] = version;\n",
       "            return resolve(paths[lib]);\n",
       "          };\n",
       "          s.onerror = () => reject(`Error loading script: ${paths[lib]}`);\n",
       "          s.src = paths[lib];\n",
       "        });\n",
       "    }\n",
       "\n",
       "    function showError(err) {\n",
       "      outputDiv.innerHTML = `<div class=\"error\" style=\"color:red;\">${err}</div>`;\n",
       "      throw err;\n",
       "    }\n",
       "\n",
       "    function displayChart(vegaEmbed) {\n",
       "      vegaEmbed(outputDiv, spec, embedOpt)\n",
       "        .catch(err => showError(`Javascript Error: ${err.message}<br>This usually means there's a typo in your chart specification. See the javascript console for the full traceback.`));\n",
       "    }\n",
       "\n",
       "    if(typeof define === \"function\" && define.amd) {\n",
       "      requirejs.config({paths});\n",
       "      let deps = [\"vega-embed\"];\n",
       "      require(deps, displayChart, err => showError(`Error loading script: ${err.message}`));\n",
       "    } else {\n",
       "      maybeLoadScript(\"vega\", \"5\")\n",
       "        .then(() => maybeLoadScript(\"vega-lite\", \"5.20.1\"))\n",
       "        .then(() => maybeLoadScript(\"vega-embed\", \"6\"))\n",
       "        .catch(showError)\n",
       "        .then(() => displayChart(vegaEmbed));\n",
       "    }\n",
       "  })({\"config\": {\"view\": {\"continuousWidth\": 300, \"continuousHeight\": 300}}, \"data\": {\"name\": \"data-b9a6aaa0d98ef137d92e0b05a15bfdc5\"}, \"mark\": {\"type\": \"bar\"}, \"encoding\": {\"x\": {\"field\": \"region\", \"type\": \"nominal\"}, \"y\": {\"field\": \"MAE\", \"type\": \"quantitative\"}}, \"height\": 500, \"width\": 500, \"$schema\": \"https://vega.github.io/schema/vega-lite/v5.20.1.json\", \"datasets\": {\"data-b9a6aaa0d98ef137d92e0b05a15bfdc5\": [{\"region\": \"Africa\", \"MAE\": 4.852430674906256}, {\"region\": \"America\", \"MAE\": 5.689902663264274}, {\"region\": \"Antarctica\", \"MAE\": 6.0182870777271855}, {\"region\": \"Asia\", \"MAE\": 4.8199955262059335}, {\"region\": \"Atlantic\", \"MAE\": 3.3011045306203175}, {\"region\": \"Australia\", \"MAE\": 4.6362611306693395}, {\"region\": \"Etc\", \"MAE\": 5.855342338029209}, {\"region\": \"Europe\", \"MAE\": 3.3187668044022263}, {\"region\": \"Indian\", \"MAE\": 3.346349871552796}, {\"region\": \"Pacific\", \"MAE\": 9.235657479247978}]}}, {\"mode\": \"vega-lite\"});\n",
       "</script>"
      ],
      "text/plain": [
       "alt.Chart(...)"
      ]
     },
     "execution_count": 26,
     "metadata": {},
     "output_type": "execute_result"
    }
   ],
   "source": [
    "plot_df = pd.DataFrame()\n",
    "plot_df[\"region\"] = np.unique(region_list)\n",
    "plot_df[\"MAE\"] = region_error_list\n",
    "alt.Chart(plot_df).mark_bar().encode(\n",
    "    x=\"region\",\n",
    "    y=\"MAE\"\n",
    ").properties(width=500,height=500)"
   ]
  },
  {
   "cell_type": "markdown",
   "id": "3e4e0028",
   "metadata": {},
   "source": [
    "### Error by local time"
   ]
  },
  {
   "cell_type": "code",
   "execution_count": 27,
   "id": "1d6a557f",
   "metadata": {},
   "outputs": [],
   "source": [
    "local_time_error_list = []\n",
    "local_time_sample_size = []\n",
    "for lt in np.unique(local_hour_list):\n",
    "    local_time_mask = local_hour_list == lt\n",
    "    local_time_error_list.append(np.mean(np.abs(pred[local_time_mask]-target[local_time_mask])))\n",
    "    local_time_sample_size.append(np.sum(local_time_mask))"
   ]
  },
  {
   "cell_type": "code",
   "execution_count": 28,
   "id": "6cd890fc",
   "metadata": {},
   "outputs": [
    {
     "data": {
      "text/html": [
       "\n",
       "<style>\n",
       "  #altair-viz-f585b6be86cf4798aa8b4af563edd777.vega-embed {\n",
       "    width: 100%;\n",
       "    display: flex;\n",
       "  }\n",
       "\n",
       "  #altair-viz-f585b6be86cf4798aa8b4af563edd777.vega-embed details,\n",
       "  #altair-viz-f585b6be86cf4798aa8b4af563edd777.vega-embed details summary {\n",
       "    position: relative;\n",
       "  }\n",
       "</style>\n",
       "<div id=\"altair-viz-f585b6be86cf4798aa8b4af563edd777\"></div>\n",
       "<script type=\"text/javascript\">\n",
       "  var VEGA_DEBUG = (typeof VEGA_DEBUG == \"undefined\") ? {} : VEGA_DEBUG;\n",
       "  (function(spec, embedOpt){\n",
       "    let outputDiv = document.currentScript.previousElementSibling;\n",
       "    if (outputDiv.id !== \"altair-viz-f585b6be86cf4798aa8b4af563edd777\") {\n",
       "      outputDiv = document.getElementById(\"altair-viz-f585b6be86cf4798aa8b4af563edd777\");\n",
       "    }\n",
       "\n",
       "    const paths = {\n",
       "      \"vega\": \"https://cdn.jsdelivr.net/npm/vega@5?noext\",\n",
       "      \"vega-lib\": \"https://cdn.jsdelivr.net/npm/vega-lib?noext\",\n",
       "      \"vega-lite\": \"https://cdn.jsdelivr.net/npm/vega-lite@5.20.1?noext\",\n",
       "      \"vega-embed\": \"https://cdn.jsdelivr.net/npm/vega-embed@6?noext\",\n",
       "    };\n",
       "\n",
       "    function maybeLoadScript(lib, version) {\n",
       "      var key = `${lib.replace(\"-\", \"\")}_version`;\n",
       "      return (VEGA_DEBUG[key] == version) ?\n",
       "        Promise.resolve(paths[lib]) :\n",
       "        new Promise(function(resolve, reject) {\n",
       "          var s = document.createElement('script');\n",
       "          document.getElementsByTagName(\"head\")[0].appendChild(s);\n",
       "          s.async = true;\n",
       "          s.onload = () => {\n",
       "            VEGA_DEBUG[key] = version;\n",
       "            return resolve(paths[lib]);\n",
       "          };\n",
       "          s.onerror = () => reject(`Error loading script: ${paths[lib]}`);\n",
       "          s.src = paths[lib];\n",
       "        });\n",
       "    }\n",
       "\n",
       "    function showError(err) {\n",
       "      outputDiv.innerHTML = `<div class=\"error\" style=\"color:red;\">${err}</div>`;\n",
       "      throw err;\n",
       "    }\n",
       "\n",
       "    function displayChart(vegaEmbed) {\n",
       "      vegaEmbed(outputDiv, spec, embedOpt)\n",
       "        .catch(err => showError(`Javascript Error: ${err.message}<br>This usually means there's a typo in your chart specification. See the javascript console for the full traceback.`));\n",
       "    }\n",
       "\n",
       "    if(typeof define === \"function\" && define.amd) {\n",
       "      requirejs.config({paths});\n",
       "      let deps = [\"vega-embed\"];\n",
       "      require(deps, displayChart, err => showError(`Error loading script: ${err.message}`));\n",
       "    } else {\n",
       "      maybeLoadScript(\"vega\", \"5\")\n",
       "        .then(() => maybeLoadScript(\"vega-lite\", \"5.20.1\"))\n",
       "        .then(() => maybeLoadScript(\"vega-embed\", \"6\"))\n",
       "        .catch(showError)\n",
       "        .then(() => displayChart(vegaEmbed));\n",
       "    }\n",
       "  })({\"config\": {\"view\": {\"continuousWidth\": 300, \"continuousHeight\": 300}}, \"data\": {\"name\": \"data-0b3b3ef8dde0d99aeda6ecde26253a4b\"}, \"mark\": {\"type\": \"bar\"}, \"encoding\": {\"x\": {\"field\": \"local time\", \"type\": \"quantitative\"}, \"y\": {\"field\": \"MAE\", \"type\": \"quantitative\"}}, \"height\": 500, \"width\": 500, \"$schema\": \"https://vega.github.io/schema/vega-lite/v5.20.1.json\", \"datasets\": {\"data-0b3b3ef8dde0d99aeda6ecde26253a4b\": [{\"local time\": 0, \"MAE\": 1.6254936193616953}, {\"local time\": 1, \"MAE\": 1.1792259002104304}, {\"local time\": 2, \"MAE\": 2.4403929895379797}, {\"local time\": 3, \"MAE\": 3.4083112588457567}, {\"local time\": 4, \"MAE\": 2.423968654756682}, {\"local time\": 5, \"MAE\": 2.1262870102856266}, {\"local time\": 6, \"MAE\": 3.6424470438599847}, {\"local time\": 7, \"MAE\": 3.4431196857497786}, {\"local time\": 8, \"MAE\": 5.014207936505021}, {\"local time\": 9, \"MAE\": 4.872033804324961}, {\"local time\": 10, \"MAE\": 6.608985421436323}, {\"local time\": 11, \"MAE\": 5.401843058155455}, {\"local time\": 12, \"MAE\": 4.7633682489358}, {\"local time\": 13, \"MAE\": 5.104241034861483}, {\"local time\": 14, \"MAE\": 5.581570152213406}, {\"local time\": 15, \"MAE\": 5.229387785626039}, {\"local time\": 16, \"MAE\": 5.125055440498044}, {\"local time\": 17, \"MAE\": 5.6531273372362385}, {\"local time\": 18, \"MAE\": 6.117769877650914}, {\"local time\": 19, \"MAE\": 7.5290642130917345}, {\"local time\": 20, \"MAE\": 11.34001269513796}, {\"local time\": 21, \"MAE\": 7.254169018910071}, {\"local time\": 22, \"MAE\": 2.6302662938737944}, {\"local time\": 23, \"MAE\": 1.9987979204802684}]}}, {\"mode\": \"vega-lite\"});\n",
       "</script>"
      ],
      "text/plain": [
       "alt.Chart(...)"
      ]
     },
     "execution_count": 28,
     "metadata": {},
     "output_type": "execute_result"
    }
   ],
   "source": [
    "plot_df = pd.DataFrame()\n",
    "plot_df[\"local time\"] = np.unique(local_hour_list)\n",
    "plot_df[\"MAE\"] = local_time_error_list\n",
    "alt.Chart(plot_df).mark_bar().encode(\n",
    "    x=\"local time\",\n",
    "    y=\"MAE\"\n",
    ").properties(width=500,height=500)"
   ]
  }
 ],
 "metadata": {
  "kernelspec": {
   "display_name": "venv",
   "language": "python",
   "name": "python3"
  },
  "language_info": {
   "codemirror_mode": {
    "name": "ipython",
    "version": 3
   },
   "file_extension": ".py",
   "mimetype": "text/x-python",
   "name": "python",
   "nbconvert_exporter": "python",
   "pygments_lexer": "ipython3",
   "version": "3.11.6"
  }
 },
 "nbformat": 4,
 "nbformat_minor": 5
}
